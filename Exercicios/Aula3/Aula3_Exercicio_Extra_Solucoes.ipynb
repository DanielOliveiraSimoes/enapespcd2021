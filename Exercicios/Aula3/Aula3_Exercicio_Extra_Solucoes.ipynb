{
 "cells": [
  {
   "cell_type": "markdown",
   "metadata": {},
   "source": [
    "# Aula 2 - Exercícios - Sintaxe de Python e NumPy Array\n",
    "### Consulta a internet (Google, Stackoverflow e etc) liberada!!"
   ]
  },
  {
   "cell_type": "code",
   "execution_count": 2,
   "metadata": {},
   "outputs": [],
   "source": [
    "import numpy as np"
   ]
  },
  {
   "cell_type": "markdown",
   "metadata": {},
   "source": [
    "### 2.6 Escreva uma função Python para selecionar dentre os elementos de um array aquele que mais se aproxima de um determinado valor N passado como argumento da função.\n",
    "#### Se houver dois elementos equidistantes de N e forem os mais próximos de N, retorne o menor. Ou seja, para [1, 3, 4] e N=2, retorne 1.\n",
    "#### Não use laços (loops), use funções Numpy.\n",
    "#### Exemplo:  para um array([0, 12, 45, 34, 99]) e N=20\n",
    "#### Resultado esperado: 12"
   ]
  },
  {
   "cell_type": "code",
   "execution_count": 13,
   "metadata": {
    "nbgrader": {
     "grade": false,
     "grade_id": "cell-e0a4e5deea9187c4",
     "locked": false,
     "schema_version": 3,
     "solution": true,
     "task": false
    }
   },
   "outputs": [],
   "source": [
    "# Dica: Use as funções np.abs, ndarray.argmin e ndarray.sort \n",
    "def get_closest(arr, N):\n",
    "    \"\"\"retorne o elemento do array que mais se aproxima de N.\n",
    "       No caso de dois elementos equidistantes, retorne o menor.\n",
    "    \"\"\"\n",
    "    ### BEGIN SOLUTION\n",
    "    arr.sort()\n",
    "    index = (np.abs(arr-N)).argmin()\n",
    "    return arr[index]\n",
    "    ### END SOLUTION"
   ]
  },
  {
   "cell_type": "code",
   "execution_count": 16,
   "metadata": {},
   "outputs": [],
   "source": [
    "## Faça seus testes aqui\n",
    "\n"
   ]
  },
  {
   "cell_type": "code",
   "execution_count": 17,
   "metadata": {
    "nbgrader": {
     "grade": true,
     "grade_id": "cell-30d325468b6f6a67",
     "locked": true,
     "points": 1,
     "schema_version": 3,
     "solution": false,
     "task": false
    }
   },
   "outputs": [],
   "source": [
    "# Validação\n",
    "inarr = np.array([3, 6, 1, 4])\n",
    "assert get_closest(inarr, 2) == 1"
   ]
  }
 ],
 "metadata": {
  "celltoolbar": "Create Assignment",
  "kernelspec": {
   "display_name": "Python 3",
   "language": "python",
   "name": "python3"
  },
  "language_info": {
   "codemirror_mode": {
    "name": "ipython",
    "version": 3
   },
   "file_extension": ".py",
   "mimetype": "text/x-python",
   "name": "python",
   "nbconvert_exporter": "python",
   "pygments_lexer": "ipython3",
   "version": "3.8.3"
  },
  "name": "_merged"
 },
 "nbformat": 4,
 "nbformat_minor": 4
}
