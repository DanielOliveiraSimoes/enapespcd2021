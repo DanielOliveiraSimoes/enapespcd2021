{
 "cells": [
  {
   "cell_type": "markdown",
   "metadata": {},
   "source": [
    "# Aula 2- Exercícios - Sintaxe de Python e NumPy Array"
   ]
  },
  {
   "cell_type": "code",
   "execution_count": null,
   "metadata": {},
   "outputs": [],
   "source": [
    "#@title Init Cell - Execute-me!!!\n",
    "import sys\n",
    "from datetime import datetime\n",
    "import requests\n",
    "import time\n",
    "from requests.utils import quote\n",
    "url = 'https://docs.google.com/forms/d/e/1FAIpQLSeASSC8-w8FmfodZ4lBnuSEAvYuE4vatIBowLIREG1f-2pIpA/formResponse?usp=pp_url&entry.1986154915=mbacd&entry.513694412=2021&entry.1914621244=CienciaDeDados'\n",
    "\n",
    "def format_values(values):\n",
    "    return {\n",
    "        \"entry.1269959472\": values['student_id'],\n",
    "        \"entry.1799867692\": str(values['exercise_number']).replace(\".\", \"_\"),\n",
    "        \"entry.886231469\": values['exercise_score'],\n",
    "        \"entry.1491599254\": values['exercise_extra'],\n",
    "        \"entry.1342537331\": values['id']\n",
    "    }\n",
    "\n",
    "def send_attendance(url, data):\n",
    "    count = 0\n",
    "    while count < 3:\n",
    "        count += 1\n",
    "        try:\n",
    "          r = requests.post(url, data=data)\n",
    "          break\n",
    "        except:\n",
    "          print(\"Error Occured!\")\n",
    "          time.sleep(2)\n",
    "\n",
    "def validate(current_question_output, exercise_number, exercise_extra):\n",
    "  student_email=!gcloud config get-value account\n",
    "  if not student_email or 'unset' in student_email[0]:\n",
    "    !gcloud auth login\n",
    "    student_email=!gcloud config get-value account\n",
    "  \n",
    "  if current_question_output:\n",
    "      exercise_score = True\n",
    "      print(\"Parabéns\")\n",
    "  else:\n",
    "      exercise_score = False\n",
    "      print(\"Resposta incorreta.\")\n",
    "\n",
    "  values = {\"exercise_number\": exercise_number, \"student_id\": student_email[0],\n",
    "            \"exercise_points\": 1, \"exercise_score\": exercise_score, \n",
    "            \"exercise_extra\": exercise_extra,\n",
    "            \"id\": f\"{student_email[0]}_{exercise_number}\"}\n",
    "  final_data = format_values(values)\n",
    "  send_attendance(f\"{url}&emailAddress={quote(str(student_email[0]))}\", final_data)\n"
   ]
  },
  {
   "cell_type": "markdown",
   "metadata": {},
   "source": [
    "### Ao resolver um exercício, apague o seguinte trecho do código:\n",
    "```# YOUR CODE HERE\n",
    "raise NotImplementedError()\n",
    "```"
   ]
  },
  {
   "cell_type": "markdown",
   "metadata": {},
   "source": [
    "### 2.1 Escreva uma função em Python que aceite um inteiro (n) de 1 a 9 e compute o valor de: n+nn+nnn\n",
    "#### Valide os valores de entrada. Para isso, use a instrução raise ValueError\n",
    "##### Exemplo: n=5. Então n + nn + nnn = 5 + 55 + 555 = 615"
   ]
  },
  {
   "cell_type": "code",
   "execution_count": null,
   "metadata": {
    "deletable": false,
    "nbgrader": {
     "cell_type": "code",
     "checksum": "746eaa246dce8d8587b6133d372dd2d5",
     "grade": false,
     "grade_id": "cell-a2f686fdd79e4f51",
     "locked": false,
     "schema_version": 3,
     "solution": true,
     "task": false
    }
   },
   "outputs": [],
   "source": [
    "def calculo_n(n):\n",
    "    \"\"\"retorne o valor de: n+nn+nnn\n",
    "    \"\"\"\n",
    "    # YOUR CODE HERE\n",
    "    raise NotImplementedError()"
   ]
  },
  {
   "cell_type": "code",
   "execution_count": null,
   "metadata": {},
   "outputs": [],
   "source": [
    "## Faça seus testes aqui\n"
   ]
  },
  {
   "cell_type": "code",
   "execution_count": null,
   "metadata": {
    "deletable": false,
    "editable": false,
    "nbgrader": {
     "cell_type": "code",
     "checksum": "bf9242253e0adbd321912995d71bb383",
     "grade": true,
     "grade_id": "cell-5412543179b17057",
     "locked": true,
     "points": 1,
     "schema_version": 3,
     "solution": false,
     "task": false
    }
   },
   "outputs": [],
   "source": [
    "# Validação para nota\n",
    "v1 = calculo_n(1) == 123\n",
    "v2 = calculo_n(2) == 246\n",
    "v3 = calculo_n(3) == 369\n",
    "v4 = calculo_n(9) == 1107\n",
    "current_question_output = v1 and v2 and v3 and v3\n",
    "assert current_question_output\n",
    "validate(current_question_output, \"2.1\", False)"
   ]
  },
  {
   "cell_type": "markdown",
   "metadata": {},
   "source": [
    "### 2.2 Escreva uma função para retornar o maior item de uma lista de inteiros"
   ]
  },
  {
   "cell_type": "code",
   "execution_count": null,
   "metadata": {
    "deletable": false,
    "nbgrader": {
     "cell_type": "code",
     "checksum": "25cd4d534b61092ae3f5c2df86ea8970",
     "grade": false,
     "grade_id": "cell-2e044a5f0541da37",
     "locked": false,
     "schema_version": 3,
     "solution": true,
     "task": false
    }
   },
   "outputs": [],
   "source": [
    "def maior(lista):\n",
    "    \"\"\"retorne o maior item da lista\n",
    "    \"\"\"\n",
    "    # YOUR CODE HERE\n",
    "    raise NotImplementedError()"
   ]
  },
  {
   "cell_type": "code",
   "execution_count": null,
   "metadata": {},
   "outputs": [],
   "source": [
    "## Faça seus testes aqui\n"
   ]
  },
  {
   "cell_type": "code",
   "execution_count": null,
   "metadata": {
    "deletable": false,
    "editable": false,
    "nbgrader": {
     "cell_type": "code",
     "checksum": "196e58fcd0c2766283c8c7449cffb82e",
     "grade": true,
     "grade_id": "cell-5bd4079b37b6a7f3",
     "locked": true,
     "points": 1,
     "schema_version": 3,
     "solution": false,
     "task": false
    }
   },
   "outputs": [],
   "source": [
    "# Validação para nota\n",
    "v1 = maior([1,0,-1,100,7]) == 100\n",
    "v2 = maior([-100,-1580,-1,-9100,-77]) == -1\n",
    "current_question_output = v1 and v2\n",
    "assert current_question_output\n",
    "validate(current_question_output, \"2.2\", False)"
   ]
  }
 ],
 "metadata": {
  "kernelspec": {
   "display_name": "Python 3",
   "language": "python",
   "name": "python3"
  },
  "language_info": {
   "codemirror_mode": {
    "name": "ipython",
    "version": 3
   },
   "file_extension": ".py",
   "mimetype": "text/x-python",
   "name": "python",
   "nbconvert_exporter": "python",
   "pygments_lexer": "ipython3",
   "version": "3.8.3"
  },
  "name": "_merged",
  "varInspector": {
   "cols": {
    "lenName": 16,
    "lenType": 16,
    "lenVar": 40
   },
   "kernels_config": {
    "python": {
     "delete_cmd_postfix": "",
     "delete_cmd_prefix": "del ",
     "library": "var_list.py",
     "varRefreshCmd": "print(var_dic_list())"
    },
    "r": {
     "delete_cmd_postfix": ") ",
     "delete_cmd_prefix": "rm(",
     "library": "var_list.r",
     "varRefreshCmd": "cat(var_dic_list()) "
    }
   },
   "types_to_exclude": [
    "module",
    "function",
    "builtin_function_or_method",
    "instance",
    "_Feature"
   ],
   "window_display": false
  }
 },
 "nbformat": 4,
 "nbformat_minor": 4
}
