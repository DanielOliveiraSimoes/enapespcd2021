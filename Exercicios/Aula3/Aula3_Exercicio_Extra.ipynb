{
 "cells": [
  {
   "cell_type": "markdown",
   "metadata": {},
   "source": [
    "# Aula 3 - Exercícios Extra - Estruturas de Dados Nativas do Python\n"
   ]
  },
  {
   "cell_type": "code",
   "execution_count": null,
   "metadata": {},
   "outputs": [],
   "source": [
    "#@title Init Cell - Execute-me!!!\n",
    "import sys\n",
    "from datetime import datetime\n",
    "import requests\n",
    "import time\n",
    "from requests.utils import quote\n",
    "url = 'https://docs.google.com/forms/d/e/1FAIpQLSeASSC8-w8FmfodZ4lBnuSEAvYuE4vatIBowLIREG1f-2pIpA/formResponse?usp=pp_url&entry.1986154915=mbacd&entry.513694412=2021&entry.1914621244=CienciaDeDados'\n",
    "\n",
    "def format_values(values):\n",
    "    return {\n",
    "        \"entry.1269959472\": values['student_id'],\n",
    "        \"entry.1799867692\": str(values['exercise_number']).replace(\".\", \"_\"),\n",
    "        \"entry.886231469\": values['exercise_score'],\n",
    "        \"entry.1491599254\": values['exercise_extra'],\n",
    "        \"entry.1342537331\": values['id']\n",
    "    }\n",
    "\n",
    "def send_attendance(url, data):\n",
    "    count = 0\n",
    "    while count < 3:\n",
    "        count += 1\n",
    "        try:\n",
    "          r = requests.post(url, data=data)\n",
    "          break\n",
    "        except:\n",
    "          print(\"Error Occured!\")\n",
    "          time.sleep(2)\n",
    "\n",
    "def validate(current_question_output, exercise_number, exercise_extra):\n",
    "  student_email=!gcloud config get-value account\n",
    "  if not student_email or 'unset' in student_email[0]:\n",
    "    !gcloud auth login\n",
    "    student_email=!gcloud config get-value account\n",
    "  \n",
    "  if current_question_output:\n",
    "      exercise_score = True\n",
    "      print(\"Parabéns\")\n",
    "  else:\n",
    "      exercise_score = False\n",
    "      print(\"Resposta incorreta.\")\n",
    "\n",
    "  values = {\"exercise_number\": exercise_number, \"student_id\": student_email[0],\n",
    "            \"exercise_points\": 1, \"exercise_score\": exercise_score, \n",
    "            \"exercise_extra\": exercise_extra,\n",
    "            \"id\": f\"{student_email[0]}_{exercise_number}\"}\n",
    "  final_data = format_values(values)\n",
    "  send_attendance(f\"{url}&emailAddress={quote(str(student_email[0]))}\", final_data)\n"
   ]
  },
  {
   "cell_type": "markdown",
   "metadata": {},
   "source": [
    "### 3.3 Escreva uma função Python para combinar os itens de mesma chave de uma lista de  dicionários, somando os valores correspondentes.\n",
    "#### Exemplo:  para ```[{'item': 'carro', 'quantidade': 400}, {'item': 'moto', 'quantidade': 300}, {'item': 'carro', 'quantidade': 750}]```\n",
    "#### Resultado esperado: ```{'carro': 1150, 'moto': 300}```"
   ]
  },
  {
   "cell_type": "code",
   "execution_count": null,
   "metadata": {
    "deletable": false,
    "nbgrader": {
     "cell_type": "code",
     "checksum": "02815a399ebb5577e0e67bdd402e1d0d",
     "grade": false,
     "grade_id": "cell-e0a4e5deea9187c4",
     "locked": false,
     "schema_version": 3,
     "solution": true,
     "task": false
    }
   },
   "outputs": [],
   "source": [
    "def combine_items(item_list):\n",
    "    \"\"\"retorne um dicionário combinando (somando) as quantidades do mesmo item\n",
    "    \"\"\"\n",
    "    # YOUR CODE HERE\n",
    "    raise NotImplementedError()"
   ]
  },
  {
   "cell_type": "code",
   "execution_count": null,
   "metadata": {},
   "outputs": [],
   "source": [
    "## Faça seus testes aqui\n"
   ]
  },
  {
   "cell_type": "code",
   "execution_count": null,
   "metadata": {
    "deletable": false,
    "editable": false,
    "nbgrader": {
     "cell_type": "code",
     "checksum": "dfe954b0b159d519170c6eadd83fdc91",
     "grade": true,
     "grade_id": "cell-30d325468b6f6a67",
     "locked": true,
     "points": 1,
     "schema_version": 3,
     "solution": false,
     "task": false
    }
   },
   "outputs": [],
   "source": [
    "# Validação\n",
    "input_data = [{'item': 'carro', 'quantidade': 400}, \n",
    "              {'item': 'moto', 'quantidade': 300}, \n",
    "              {'item': 'carro', 'quantidade': 750}]\n",
    "output_result = {'carro': 1150, 'moto': 300}\n",
    "v1 = combine_items(input_data) == output_result\n",
    "current_question_output = v1\n",
    "assert current_question_output\n",
    "validate(current_question_output, \"3.3\", True)"
   ]
  },
  {
   "cell_type": "markdown",
   "metadata": {},
   "source": [
    "### 3.4 Usando um defaultdict, escreva uma função Python para transformar uma lista de listas num dicionário. Os valores repetidos de uma lista devem ser associados a mesma chave do dicionário, como no exemplo abaixo.\n",
    "#### Exemplo:  ```[ [\"carro\", 10], [\"moto\", 20], [\"trem\", 5], [\"carro\", 30], [\"caminhao\", 20] ]```\n",
    "#### Resultado esperado: ```{\"carro\": [10, 30], \"moto\": [20], \"trem\": [5], \"caminhao\": [20] }```"
   ]
  },
  {
   "cell_type": "code",
   "execution_count": null,
   "metadata": {
    "deletable": false,
    "nbgrader": {
     "cell_type": "code",
     "checksum": "c632059c67d0863eb1d7c2618091f706",
     "grade": false,
     "grade_id": "cell-9959d8353ef5e348",
     "locked": false,
     "schema_version": 3,
     "solution": true,
     "task": false
    }
   },
   "outputs": [],
   "source": [
    "def dict_from_list(lista):\n",
    "    # YOUR CODE HERE\n",
    "    raise NotImplementedError()"
   ]
  },
  {
   "cell_type": "code",
   "execution_count": null,
   "metadata": {},
   "outputs": [],
   "source": [
    "## Faça seus testes aqui\n"
   ]
  },
  {
   "cell_type": "code",
   "execution_count": null,
   "metadata": {},
   "outputs": [],
   "source": [
    "# Validação\n",
    "lista2 = [ [\"carro\", 10], [\"moto\", 20], [\"trem\", 5], [\"carro\", 30], [\"caminhao\", 20] ]\n",
    "v1 = dict_from_list(lista2) == {'carro': [10, 30], 'moto': [20], 'trem': [5], 'caminhao': [20]}\n",
    "current_question_output = v1\n",
    "assert current_question_output\n",
    "validate(current_question_output, \"3.4\", True)"
   ]
  },
  {
   "cell_type": "markdown",
   "metadata": {},
   "source": [
    "### 3.5 Escreva uma função Python para computar o valor total de uma compra de supermercado e dar baixa no estoque (deduzir a quantidade comprada da quantidade em estoque). Retorne o valor total da compra e altere o dicionário de estoque sem retorná-lo.\n",
    "#### Se a quantidade do item em estoque for menor do que a quantidade da lista de compra, o estoque restante deve ser vendido.\n",
    "\n",
    "#### Exemplo:  \n",
    "####                   ```lista_compras = {\"arroz\":1, \"feijao\":2, \"macarrao\":3}```\n",
    "####                   ```estoque = {\"arroz\": 60, \"feijao\": 30, \"macarrao\": 1, \"farinha\": 15}```\n",
    "####                   ```precos = {\"arroz\": 4, \"feijao\": 2, \"macarrao\": 1.5, \"farinha\": 3}```\n",
    "#### Resultado esperado: ```total = 9.5```"
   ]
  },
  {
   "cell_type": "code",
   "execution_count": null,
   "metadata": {
    "deletable": false,
    "nbgrader": {
     "cell_type": "code",
     "checksum": "ec0d888e0be3cc742c52bdddaa08315b",
     "grade": false,
     "grade_id": "cell-fb745f3563064d90",
     "locked": false,
     "schema_version": 3,
     "solution": true,
     "task": false
    }
   },
   "outputs": [],
   "source": [
    "def compra(estoque, precos, lista):\n",
    "    # YOUR CODE HERE\n",
    "    raise NotImplementedError()"
   ]
  },
  {
   "cell_type": "code",
   "execution_count": null,
   "metadata": {},
   "outputs": [],
   "source": [
    "## Faça seus testes aqui\n"
   ]
  },
  {
   "cell_type": "code",
   "execution_count": null,
   "metadata": {},
   "outputs": [],
   "source": [
    "# Validação\n",
    "lista_compras = {\"arroz\":1, \"feijao\":2, \"macarrao\":3}\n",
    "estoque = {\"arroz\": 60, \"feijao\": 30, \"macarrao\": 1, \"farinha\": 15}\n",
    "precos = {\"arroz\": 4, \"feijao\": 2, \"macarrao\": 1.5, \"farinha\": 3}\n",
    "v1 = compra(estoque, precos, lista_compras) == 9.5\n",
    "current_question_output = v1\n",
    "assert current_question_output\n",
    "validate(current_question_output, \"3.5\", True)"
   ]
  },
  {
   "cell_type": "markdown",
   "metadata": {},
   "source": [
    "### 3.6 Usando o tipo de dados set (conjuntos) do python, crie uma função python que  retorne os elementos que não estão na intersecção das duas listas passadas como argumento. O retorno deve ser uma lista.\n",
    "#### Exemplo:\n",
    "```\n",
    "lista1 = [\"awerr\", \"aa\", \"awyt\", \"g\", \"sssaere\"]\n",
    "lista2 = [\"awerr\", \"aa\", \"sssaere\", \"aabb\", \"qwerttt\", \"12345\"]```\n",
    "#### Retorno esperado:\n",
    "```\n",
    "['awyt', 'g', 'aabb', 'qwerttt', '12345']```\n",
    "#### dica 1: Converta as listas para set. Exemplo: ```c1=set(lista1)```\n",
    "#### dica 2: crie o conjunto interseção e o conjunto uniao dos dois conjuntos correspondentes às duas listas.\n",
    "#### dica 3: faça a diferença entre a união e a interseção.\n",
    "#### dica 4: faça a conversão do conjunto resultado para lista: ```resultado = list(c)```\n",
    "\n"
   ]
  },
  {
   "cell_type": "code",
   "execution_count": null,
   "metadata": {
    "deletable": false,
    "nbgrader": {
     "cell_type": "code",
     "checksum": "516a13f09bdeca979dc3a34abe2ac9c8",
     "grade": false,
     "grade_id": "cell-06bc42e7cd22bdcf",
     "locked": false,
     "schema_version": 3,
     "solution": true,
     "task": false
    }
   },
   "outputs": [],
   "source": [
    "def not_union_inters(l1, l2):\n",
    "    # YOUR CODE HERE\n",
    "    raise NotImplementedError()"
   ]
  },
  {
   "cell_type": "code",
   "execution_count": null,
   "metadata": {},
   "outputs": [],
   "source": [
    "## Faça seus testes aqui\n"
   ]
  },
  {
   "cell_type": "code",
   "execution_count": null,
   "metadata": {},
   "outputs": [],
   "source": [
    "lista1 = [\"awerr\", \"aa\", \"awyt\", \"g\", \"sssaere\"]\n",
    "lista2 = [\"awerr\", \"aa\", \"sssaere\", \"aabb\", \"qwerttt\", \"12345\"]\n",
    "v1 = set(not_union_inters(lista1, lista2)) == {'12345', 'qwerttt', 'awyt', 'aabb', 'g'}\n",
    "current_question_output = v1\n",
    "assert current_question_output\n",
    "validate(current_question_output, \"3.6\", True)"
   ]
  },
  {
   "cell_type": "markdown",
   "metadata": {},
   "source": [
    "### 3.7 Crie uma função para gerar tuplas compostas pelos elementos em posições de mesmo ínidce numa lista e na sua lista reversa. A lista deve ser passada como argumento da função.\n",
    "#### Exemplo: \n",
    "```lista = [1, 4, 6, 10, 5]\n",
    "lista_reversa = [5, 10, 6, 4, 1]```\n",
    "#### Resultado esperado: \n",
    "```[(1,5) , (4,10) , (6,6) , (10,4) , (5,1)]\n",
    "```\n",
    "#### Dica: use a função zip"
   ]
  },
  {
   "cell_type": "code",
   "execution_count": null,
   "metadata": {
    "deletable": false,
    "nbgrader": {
     "cell_type": "code",
     "checksum": "66dc2300a54d37f03f197cf2321a5a22",
     "grade": false,
     "grade_id": "cell-c651c0d66cc0aeb3",
     "locked": false,
     "schema_version": 3,
     "solution": true,
     "task": false
    }
   },
   "outputs": [],
   "source": [
    "def lista_tuplas(l):\n",
    "    # YOUR CODE HERE\n",
    "    raise NotImplementedError()"
   ]
  },
  {
   "cell_type": "code",
   "execution_count": null,
   "metadata": {},
   "outputs": [],
   "source": [
    "## Faça seus testes aqui\n"
   ]
  },
  {
   "cell_type": "code",
   "execution_count": null,
   "metadata": {},
   "outputs": [],
   "source": [
    "lista = [1, 4, 6, 10, 5]\n",
    "v1 = lista_tuplas(lista) == [(1, 5), (4, 10), (6, 6), (10, 4), (5, 1)]\n",
    "current_question_output = v1\n",
    "assert current_question_output\n",
    "validate(current_question_output, \"3.7\", True)"
   ]
  },
  {
   "cell_type": "markdown",
   "metadata": {},
   "source": [
    "### 3.8 Crie uma função python que receba uma lista como argumento, e usando um list comprehenion, crie uma lista de dicionários. A chave de cada dicionário, na lista resultante, deve ser o elemento da lista (passada como argumento) e o valor a sua posição (índice) dentro desta lista.\n",
    "#### Exemplo: \n",
    "```lista = [\"azul\", \"amarelo\", \"vermelho\"]```\n",
    "#### Resultado esperado: \n",
    "```[{\"azul\": 0}, {\"amarelo\": 1}, {\"vermelho\": 2}]```\n",
    "\n",
    "#### Dica: use a função index para extrair o índice de um elemento numa lista. Exemplo: ``` lista.index(\"azul\") ```\n"
   ]
  },
  {
   "cell_type": "code",
   "execution_count": null,
   "metadata": {
    "deletable": false,
    "nbgrader": {
     "cell_type": "code",
     "checksum": "fe24be1a6468063a8cbf3e475722c2f1",
     "grade": false,
     "grade_id": "cell-07db5d73a369b436",
     "locked": false,
     "schema_version": 3,
     "solution": true,
     "task": false
    }
   },
   "outputs": [],
   "source": [
    "def lista_dicionarios(l):\n",
    "    # YOUR CODE HERE\n",
    "    raise NotImplementedError()"
   ]
  },
  {
   "cell_type": "code",
   "execution_count": null,
   "metadata": {},
   "outputs": [],
   "source": [
    "## Faça seus testes aqui\n"
   ]
  },
  {
   "cell_type": "code",
   "execution_count": null,
   "metadata": {},
   "outputs": [],
   "source": [
    "lista = [\"azul\", \"amarelo\", \"vermelho\"]\n",
    "v1 = lista_dicionarios(lista) == [{'azul': 0}, {'amarelo': 1}, {'vermelho': 2}]\n",
    "current_question_output = v1\n",
    "assert current_question_output\n",
    "validate(current_question_output, \"3.8\", True)"
   ]
  },
  {
   "cell_type": "markdown",
   "metadata": {},
   "source": [
    "### 3.9 Crie uma função python que receba um dicionário (de alunos e notas) como argumento, e usando um list comprehenion, crie uma lista com as respectivas notas abaixo de um certo valor passado como argumento da função.\n",
    "#### Exemplo: \n",
    "```lista = {\"Joao\": 10, \"Jose\": 5, \"Roberta\": 9, \"Maria\": 6}\n",
    "minimo = 7```\n",
    "#### Resultado esperado: \n",
    "```[5, 6]```\n",
    "\n",
    "#### Dica: use a seguinte sintaxe de list comprehension ```[i for i in lista if condicao] ``` onde ```condição``` é uma expressão que retorna um valor ```True``` ou ```False```. Neste caso, estarão na lista resultante somente os elementos cuja ```condição``` retornou ```True```.\n"
   ]
  },
  {
   "cell_type": "code",
   "execution_count": null,
   "metadata": {
    "deletable": false,
    "nbgrader": {
     "cell_type": "code",
     "checksum": "e5f26edeaccbba1f4590b9ba735527e1",
     "grade": false,
     "grade_id": "cell-4afc26f32762755c",
     "locked": false,
     "schema_version": 3,
     "solution": true,
     "task": false
    }
   },
   "outputs": [],
   "source": [
    "def nota_baixa(n, minimo):\n",
    "    # YOUR CODE HERE\n",
    "    raise NotImplementedError()"
   ]
  },
  {
   "cell_type": "code",
   "execution_count": null,
   "metadata": {},
   "outputs": [],
   "source": [
    "## Faça seus testes aqui\n"
   ]
  },
  {
   "cell_type": "code",
   "execution_count": null,
   "metadata": {},
   "outputs": [],
   "source": [
    "notas = {\"Joao\": 10, \"Jose\": 5, \"Roberta\": 9, \"Maria\": 6}\n",
    "minimo = 7\n",
    "v1 = nota_baixa(notas, minimo) == [5, 6]\n",
    "current_question_output = v1\n",
    "assert current_question_output\n",
    "validate(current_question_output, \"3.9\", True)"
   ]
  },
  {
   "cell_type": "markdown",
   "metadata": {},
   "source": [
    "### Os exercícios a seguir se baseiam num pequeno extrato de um dataset real dos serviços públicos brasileiros. Os serviços a seguir são da Fio Cruz. \n",
    "\n",
    "#### Curiosidade 1: Se tiver curiosidade consultar a fonte diretamente, execute o seguinte comando num console: ```curl https://www.servicos.gov.br/api/v1/servicos/orgao/315```\n",
    "#### Curiosidade 2: Se quiser visualizar esses resultados no navegador no formato XML, acesse esta URL no navegador https://www.servicos.gov.br/api/v1/servicos/orgao/315\n",
    "#### Curiosidade 3: Se quiser visualizar esses resultados no navegador no formato JSON, acesse a URL https://jsonformatter.org/json-viewer, e use a função Load Data para carregar os dados da URL https://www.servicos.gov.br/api/v1/servicos/orgao/315.\n",
    "#### Curiosidade 4: 315 é o código Siorg da Fiocruz\n",
    "#### Curiosidade 5: A documentação desta API encontra-se publicada em https://www.servicos.gov.br/api/v1/docs"
   ]
  },
  {
   "cell_type": "code",
   "execution_count": null,
   "metadata": {},
   "outputs": [],
   "source": [
    "# Execute esta célula para criar a variavel servicos que vai conter a lista de serviços\n",
    "# Na disciplina D20 será aprofundado esse assunto de requisições HTTP e APIs com python e curl\n",
    "# Importar a biblioteca que faz requisições HTTP\n",
    "import requests\n",
    "# Fazer uma requisição HTTP\n",
    "r = requests.get(\"https://www.servicos.gov.br/api/v1/servicos/orgao/315\")\n",
    "# Transformar a resposta em JSON e pegar a lista de serviços cuja chave é \"resposta\"\n",
    "servicos = r.json()[\"resposta\"]\n",
    "# Imprimir o primeiro serviço da lista\n",
    "print(servicos[0])"
   ]
  },
  {
   "cell_type": "markdown",
   "metadata": {},
   "source": [
    "### 3.10 Percorra a lista ```servicos``` selecionando os atributos de interesse ```nome, sigla, servicoDigital, nomeOrgao```. Construa o atributo ```id_servico``` a partir do atributo ```id``` coletando o número (id do serviço) que aparece depois da ultima barra da URL do serviço. Construa um dicionário de dicionários. No dicionário externo as chaves são o ```id_servico```, e seu respectivo valor deve ser um dicionário com os atributos de interesse."
   ]
  },
  {
   "cell_type": "code",
   "execution_count": null,
   "metadata": {
    "deletable": false,
    "nbgrader": {
     "cell_type": "code",
     "checksum": "92380708d8510ba721361e54f79b6911",
     "grade": false,
     "grade_id": "cell-787017167e839bb1",
     "locked": false,
     "schema_version": 3,
     "solution": true,
     "task": false
    }
   },
   "outputs": [],
   "source": [
    "def atributos_interesse(serv):\n",
    "    # YOUR CODE HERE\n",
    "    raise NotImplementedError()"
   ]
  },
  {
   "cell_type": "code",
   "execution_count": null,
   "metadata": {},
   "outputs": [],
   "source": [
    "## Faça seus testes aqui\n"
   ]
  },
  {
   "cell_type": "code",
   "execution_count": null,
   "metadata": {},
   "outputs": [],
   "source": [
    "atr_inter = atributos_interesse(servicos)\n",
    "gabarito = {'nome': 'Solicitar diagnóstico de referência em chikungunya',\n",
    "  'sigla': 'LABFLA', 'servicoDigital': False, 'nomeOrgao': 'Fundação Oswaldo Cruz (FIOCRUZ)'}\n",
    "v1 = atr_inter['9031'] == gabarito\n",
    "current_question_output = v1\n",
    "assert current_question_output\n",
    "validate(current_question_output, \"3.10\", True)"
   ]
  },
  {
   "cell_type": "markdown",
   "metadata": {},
   "source": [
    "### 3.11 Crie uma função que receba como argumento o dicionário do exercício anterior e calcule a porcentagem de serviços digitais presentes no dicionário."
   ]
  },
  {
   "cell_type": "code",
   "execution_count": null,
   "metadata": {
    "deletable": false,
    "nbgrader": {
     "cell_type": "code",
     "checksum": "d4cd2e202bef3b2accfbfbbf154e188a",
     "grade": false,
     "grade_id": "cell-44e66bb6d2a495c1",
     "locked": false,
     "schema_version": 3,
     "solution": true,
     "task": false
    }
   },
   "outputs": [],
   "source": [
    "def calc_porcentagem_digital(servs):\n",
    "    # YOUR CODE HERE\n",
    "    raise NotImplementedError()\n",
    "    "
   ]
  },
  {
   "cell_type": "code",
   "execution_count": null,
   "metadata": {},
   "outputs": [],
   "source": [
    "## Faça seus testes aqui\n"
   ]
  },
  {
   "cell_type": "code",
   "execution_count": null,
   "metadata": {},
   "outputs": [],
   "source": [
    "atr_inter = atributos_interesse(servicos)\n",
    "v1 = round(calc_porcentagem_digital(atr_inter), 2) == 0.23\n",
    "current_question_output = v1\n",
    "assert current_question_output\n",
    "validate(current_question_output, \"3.11\", True)"
   ]
  }
 ],
 "metadata": {
  "kernelspec": {
   "display_name": "Python 3",
   "language": "python",
   "name": "python3"
  },
  "language_info": {
   "codemirror_mode": {
    "name": "ipython",
    "version": 3
   },
   "file_extension": ".py",
   "mimetype": "text/x-python",
   "name": "python",
   "nbconvert_exporter": "python",
   "pygments_lexer": "ipython3",
   "version": "3.8.3"
  },
  "name": "_merged",
  "varInspector": {
   "cols": {
    "lenName": 16,
    "lenType": 16,
    "lenVar": 40
   },
   "kernels_config": {
    "python": {
     "delete_cmd_postfix": "",
     "delete_cmd_prefix": "del ",
     "library": "var_list.py",
     "varRefreshCmd": "print(var_dic_list())"
    },
    "r": {
     "delete_cmd_postfix": ") ",
     "delete_cmd_prefix": "rm(",
     "library": "var_list.r",
     "varRefreshCmd": "cat(var_dic_list()) "
    }
   },
   "types_to_exclude": [
    "module",
    "function",
    "builtin_function_or_method",
    "instance",
    "_Feature"
   ],
   "window_display": false
  }
 },
 "nbformat": 4,
 "nbformat_minor": 4
}
