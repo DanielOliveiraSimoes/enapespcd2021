{
 "cells": [
  {
   "cell_type": "markdown",
   "metadata": {},
   "source": [
    "# Aula 2 - Exercícios - Sintaxe de Python e NumPy Array"
   ]
  },
  {
   "cell_type": "markdown",
   "metadata": {},
   "source": [
    "### 2.3 Escreva uma função para contar a quantidade de strings, presentes numa lista, cujo tamanho é maior que 2 e o primeiro e último caracteres são os mesmos\n",
    "\n",
    "#### Exemplo:  ['abc', 'xyz', 'aba', '1221']\n",
    "#### Resultado esperado : 2\n"
   ]
  },
  {
   "cell_type": "code",
   "execution_count": 1,
   "metadata": {
    "nbgrader": {
     "grade": false,
     "grade_id": "cell-5420c3983940f212",
     "locked": false,
     "schema_version": 3,
     "solution": true,
     "task": false
    }
   },
   "outputs": [],
   "source": [
    "# Dica 1: A função len retorna o tamanho da string. Exemplo: len('abc'), retorna 3\n",
    "# Dica 2: Uma string é uma lista de caracteres\n",
    "def contagem(lista):\n",
    "    ### BEGIN SOLUTION\n",
    "    n = 0\n",
    "    for s in lista:\n",
    "        if len(s) > 2 and s[0] == s[-1]:\n",
    "            n += 1\n",
    "    return n\n",
    "    ### END SOLUTION"
   ]
  },
  {
   "cell_type": "code",
   "execution_count": 2,
   "metadata": {},
   "outputs": [],
   "source": [
    "## Faça seus testes aqui\n"
   ]
  },
  {
   "cell_type": "code",
   "execution_count": 3,
   "metadata": {
    "nbgrader": {
     "grade": true,
     "grade_id": "cell-f86ec02e2bcb84c6",
     "locked": true,
     "points": 1,
     "schema_version": 3,
     "solution": false,
     "task": false
    },
    "scrolled": true
   },
   "outputs": [],
   "source": [
    "# Validação\n",
    "assert contagem(['abc', 'xyz', 'aba', '1221']) == 2\n",
    "assert contagem(['ac', '1111', 'aasdfsdfdda', '12ewwww21']) == 3\n",
    "assert contagem(['', 'xyzaaaaaaaaa', 'aa', 'babababa']) == 0"
   ]
  },
  {
   "cell_type": "markdown",
   "metadata": {},
   "source": [
    "### 2.4 Crie um código python para imprimir o seguinte padrão. \n",
    "#### 1 \n",
    "#### 1 2 \n",
    "#### 1 2 3 \n",
    "#### 1 2 3 4 \n",
    "#### 1 2 3 4 5"
   ]
  },
  {
   "cell_type": "code",
   "execution_count": 4,
   "metadata": {
    "nbgrader": {
     "grade": true,
     "grade_id": "cell-61d03fd9d1b0eb4e",
     "locked": true,
     "points": 1,
     "schema_version": 3,
     "solution": false,
     "task": false
    }
   },
   "outputs": [
    {
     "name": "stdout",
     "output_type": "stream",
     "text": [
      "1 \n",
      "1 2 \n",
      "1 2 3 \n",
      "1 2 3 4 \n",
      "1 2 3 4 5 \n",
      "1\n",
      "1 2\n",
      "1 2 3\n",
      "1 2 3 4\n",
      "1 2 3 4 5\n"
     ]
    }
   ],
   "source": [
    "## Essa questão não tem assert.\n",
    "## Faça aqui\n",
    "### BEGIN SOLUTION\n",
    "## Solução sem utilizar funções características do python (demanda menos conhecimento)\n",
    "for i in range(1,6):\n",
    "    line = \"\"\n",
    "    for j in range(1, i+1):\n",
    "        line = line + str(j) + \" \"\n",
    "    print(line)\n",
    "    \n",
    "## Solução mais elegante utilizando conhecimentos aprimorados do python\n",
    "# O asterisco usado antes do argumento de uma função transforma uma lista em vários argumentos.\n",
    "# Exemplo: print(*[1, 2, 3]) é traduzido para print(1, 2, 3)\n",
    "for i in range(1,6):\n",
    "    print(*list(range(1,i+1)))\n",
    "### END SOLUTION"
   ]
  },
  {
   "cell_type": "markdown",
   "metadata": {},
   "source": [
    "### 2.5 Escreva uma função Python para percorrer uma lista e retornar os números multiplos de N. Pare a iteração no ponto em que encontrar um número maior do que K. Não retorne o 1o número maior do que K.\n",
    "#### Exemplo:  lista = [120, 115, 12, 32, 56, 200, 715, 152, 130, 155, 183, 300], N=5, K=200\n",
    "#### Resultado Esperado: [120, 115, 200]"
   ]
  },
  {
   "cell_type": "code",
   "execution_count": 5,
   "metadata": {
    "nbgrader": {
     "grade": false,
     "grade_id": "cell-1ff4485b8100a753",
     "locked": false,
     "schema_version": 3,
     "solution": true,
     "task": false
    }
   },
   "outputs": [],
   "source": [
    "def filtra_lista(lista, N, K):\n",
    "    \"\"\"retorne uma lista com todos os números multiplos de N menores do que K, \n",
    "       até o primeiro número maior do que K, não inclua este número na lista de resultado.\n",
    "    \"\"\"\n",
    "    ### BEGIN SOLUTION\n",
    "    result = []\n",
    "    for x in lista:\n",
    "        if x % N == 0 and x <= K:\n",
    "            result.append(x)\n",
    "        if x > K:\n",
    "            break\n",
    "    return result\n",
    "    ### END SOLUTION"
   ]
  },
  {
   "cell_type": "code",
   "execution_count": 6,
   "metadata": {},
   "outputs": [],
   "source": [
    "## Faça seus testes aqui\n"
   ]
  },
  {
   "cell_type": "code",
   "execution_count": 7,
   "metadata": {
    "nbgrader": {
     "grade": true,
     "grade_id": "cell-b6c3a5db7e709b2a",
     "locked": true,
     "points": 1,
     "schema_version": 3,
     "solution": false,
     "task": false
    },
    "scrolled": true
   },
   "outputs": [
    {
     "name": "stdout",
     "output_type": "stream",
     "text": [
      "Parabens!!\n"
     ]
    }
   ],
   "source": [
    "# Validação\n",
    "assert filtra_lista([120, 115, 12, 32, 56, 200, 715, 152, 130, 155, 183, 300], 5, 200) == [120, 115, 200]\n",
    "print(\"Parabens!!\")"
   ]
  },
  {
   "cell_type": "markdown",
   "metadata": {},
   "source": [
    "### 2.6 Dado um número inteiro qualquer, escreva uma função python para retornar a quantidade de caracteres (dígitos) contida neste número.\n",
    "##### Exemplo:  qtd_digitos(2345653) deve retornar 7"
   ]
  },
  {
   "cell_type": "code",
   "execution_count": 8,
   "metadata": {
    "nbgrader": {
     "grade": false,
     "grade_id": "cell-e69a127f71184645",
     "locked": false,
     "schema_version": 3,
     "solution": true,
     "task": false
    }
   },
   "outputs": [],
   "source": [
    "def qtd_digitos(N):\n",
    "    \"\"\"retorne a quantidade de dígitos do número N.\n",
    "    \"\"\"\n",
    "    ### BEGIN SOLUTION\n",
    "    return len(str(N))    \n",
    "    ### END SOLUTION"
   ]
  },
  {
   "cell_type": "code",
   "execution_count": 9,
   "metadata": {},
   "outputs": [],
   "source": [
    "## Faça seus testes aqui\n"
   ]
  },
  {
   "cell_type": "code",
   "execution_count": 10,
   "metadata": {
    "nbgrader": {
     "grade": true,
     "grade_id": "cell-418c099df61d368b",
     "locked": true,
     "points": 1,
     "schema_version": 3,
     "solution": false,
     "task": false
    }
   },
   "outputs": [
    {
     "name": "stdout",
     "output_type": "stream",
     "text": [
      "Parabens!!\n"
     ]
    }
   ],
   "source": [
    "# Validação\n",
    "assert qtd_digitos(2345653) == 7\n",
    "print(\"Parabens!!\")"
   ]
  },
  {
   "cell_type": "markdown",
   "metadata": {},
   "source": [
    "### 2.7 Escreva uma função Python para somar os valores dos numeros presentes numa string de números separados por vírgula.\n",
    "#### Exemplo:  \"1.0,  4.0,  10.0,  8.0,  4.0,  20.0,  23.0\"\n",
    "#### Resultado esperado: 70"
   ]
  },
  {
   "cell_type": "code",
   "execution_count": 11,
   "metadata": {
    "nbgrader": {
     "grade": false,
     "grade_id": "cell-f6c50b3e165db993",
     "locked": false,
     "schema_version": 3,
     "solution": true,
     "task": false
    }
   },
   "outputs": [],
   "source": [
    "def soma_string(texto):\n",
    "    \"\"\"retorne a soma dos numeros presentes na variavel texto\n",
    "    \"\"\"\n",
    "    ### BEGIN SOLUTION\n",
    "    lista = texto.split(\",\")\n",
    "    soma = 0\n",
    "    for i in lista:\n",
    "        soma = soma + float(i)\n",
    "    return soma\n",
    "    ### END SOLUTION"
   ]
  },
  {
   "cell_type": "code",
   "execution_count": 12,
   "metadata": {},
   "outputs": [],
   "source": [
    "## Faça seus testes aqui\n"
   ]
  },
  {
   "cell_type": "code",
   "execution_count": 13,
   "metadata": {
    "nbgrader": {
     "grade": true,
     "grade_id": "cell-401910203dadc4db",
     "locked": true,
     "points": 1,
     "schema_version": 3,
     "solution": false,
     "task": false
    },
    "scrolled": true
   },
   "outputs": [
    {
     "name": "stdout",
     "output_type": "stream",
     "text": [
      "Parabens!!\n"
     ]
    }
   ],
   "source": [
    "# Validação\n",
    "var = \"1.0,  4.0,  10.0,  8.0,  4.0,  20.0,  23.0\"\n",
    "assert soma_string(var) == 70.0\n",
    "print(\"Parabens!!\")"
   ]
  },
  {
   "cell_type": "markdown",
   "metadata": {},
   "source": [
    "### 2.8 Crie um código python para imprimir o seguinte padrão. \n",
    "#### 5 4 3 2 1 \n",
    "#### 4 3 2 1 \n",
    "#### 3 2 1 \n",
    "#### 2 1 \n",
    "#### 1"
   ]
  },
  {
   "cell_type": "code",
   "execution_count": 14,
   "metadata": {},
   "outputs": [
    {
     "name": "stdout",
     "output_type": "stream",
     "text": [
      "5 4 3 2 1 \n",
      "4 3 2 1 \n",
      "3 2 1 \n",
      "2 1 \n",
      "1 \n",
      "5 4 3 2 1\n",
      "4 3 2 1\n",
      "3 2 1\n",
      "2 1\n",
      "1\n"
     ]
    }
   ],
   "source": [
    "# Dica: Use uma sintaxe de geração de números em ordem decrescente. Por exemplo range(5, 0, -1) gera um iterator\n",
    "# para a sequência 5, 4, 3, 2, 1\n",
    "\n",
    "### Este exercicio não tem assert\n",
    "## Faça aqui\n",
    "\n",
    "### BEGIN SOLUTION\n",
    "## Solução sem utilizar funções características do python (demanda menos conhecimento)\n",
    "for i in range(5,0, -1):\n",
    "    line = \"\"\n",
    "    for j in range(i, 0, -1):\n",
    "        line = line + str(j) + \" \"\n",
    "    print(line)\n",
    "    \n",
    "## Solução mais elegante utilizando conhecimentos aprimorados do python\n",
    "# O asterisco usado antes do argumento de uma função transforma uma lista em vários argumentos.\n",
    "# Exemplo: print(*[1, 2, 3]) é traduzido para print(1, 2, 3)\n",
    "for i in range(5,0, -1):\n",
    "    print(*list(range(i, 0, -1)))\n",
    "### END SOLUTION"
   ]
  },
  {
   "cell_type": "markdown",
   "metadata": {},
   "source": [
    "### 2.9 Usando um loop do tipo for, crie uma função python para inverter uma lista.\n",
    "#### Exemplo:  inverter([120, 115, 12, 32, 56]) deve retornar [56, 32, 12, 115, 120]"
   ]
  },
  {
   "cell_type": "code",
   "execution_count": 15,
   "metadata": {
    "nbgrader": {
     "grade": false,
     "grade_id": "cell-513f2b547866e072",
     "locked": false,
     "schema_version": 3,
     "solution": true,
     "task": false
    }
   },
   "outputs": [],
   "source": [
    "def inverter(lista):\n",
    "    \"\"\"retorne uma versão invertida da lista passada como argumento\n",
    "    \"\"\"\n",
    "    ### BEGIN SOLUTION\n",
    "    resultado = []\n",
    "    for i in lista[::-1]:\n",
    "        resultado.append(i)\n",
    "    return resultado\n",
    "    ### END SOLUTION"
   ]
  },
  {
   "cell_type": "code",
   "execution_count": 16,
   "metadata": {},
   "outputs": [],
   "source": [
    "### Este exercicio não tem assert\n",
    "## Faça aqui\n"
   ]
  },
  {
   "cell_type": "code",
   "execution_count": 17,
   "metadata": {},
   "outputs": [
    {
     "name": "stdout",
     "output_type": "stream",
     "text": [
      "Parabens!!\n"
     ]
    }
   ],
   "source": [
    "assert inverter([120, 115, 12, 32, 56]) == [56, 32, 12, 115, 120]\n",
    "print(\"Parabens!!\")"
   ]
  },
  {
   "cell_type": "markdown",
   "metadata": {},
   "source": [
    "### 2.10 Escreva uma função python para substituir vírgula por ponto numa string e depois converta os números para float. Retorne a lista de números.\n",
    "#### Dica: use a função replace: ```texto.replace(\",\" , \".\")``` Este código substitui as virgulas por pontos e retorna uma string com o resultado.\n",
    "#### Exemplo:  \"0,20 0,40 0,56 0,99\"\n",
    "#### Resultado esperado: [0.2, 0.4, 0.56, 0.99]"
   ]
  },
  {
   "cell_type": "code",
   "execution_count": 18,
   "metadata": {
    "nbgrader": {
     "grade": false,
     "grade_id": "cell-e0a4e5deea9187c4",
     "locked": false,
     "schema_version": 3,
     "solution": true,
     "task": false
    }
   },
   "outputs": [],
   "source": [
    "def convert_to_float(texto):\n",
    "    \"\"\"retorne uma lista de numeros do tipo float\n",
    "    \"\"\"\n",
    "    ### BEGIN SOLUTION\n",
    "    alterado = texto.replace(\",\", \".\").split(\" \")\n",
    "    resultado = []\n",
    "    for i in alterado:\n",
    "        resultado.append(float(i))\n",
    "    return resultado\n",
    "    ### END SOLUTION"
   ]
  },
  {
   "cell_type": "code",
   "execution_count": 19,
   "metadata": {},
   "outputs": [],
   "source": [
    "## Faça seus testes aqui\n"
   ]
  },
  {
   "cell_type": "code",
   "execution_count": 20,
   "metadata": {
    "nbgrader": {
     "grade": true,
     "grade_id": "cell-30d325468b6f6a67",
     "locked": true,
     "points": 1,
     "schema_version": 3,
     "solution": false,
     "task": false
    }
   },
   "outputs": [
    {
     "name": "stdout",
     "output_type": "stream",
     "text": [
      "Parabens!!\n"
     ]
    }
   ],
   "source": [
    "# Validação\n",
    "text = \"0,20 0,40 0,56 0,99\"\n",
    "assert convert_to_float(text) == [0.2, 0.4, 0.56, 0.99]\n",
    "print(\"Parabens!!\")"
   ]
  },
  {
   "cell_type": "markdown",
   "metadata": {},
   "source": [
    "### 2.11 Escreva uma função em python para imprimir o padrão a seguir. A função deve aceitar como argumento o tamanho da maior string de asteriscos.\n",
    "``` \n",
    " * \n",
    " * * \n",
    " * * * \n",
    " * * * * \n",
    " * * * * * \n",
    " * * * * \n",
    " * * * \n",
    " * * \n",
    " *\n",
    "```"
   ]
  },
  {
   "cell_type": "code",
   "execution_count": 21,
   "metadata": {},
   "outputs": [
    {
     "name": "stdout",
     "output_type": "stream",
     "text": [
      "* \n",
      "* * \n",
      "* * * \n",
      "* * * * \n",
      "* * * * * \n",
      "* * * * \n",
      "* * * \n",
      "* * \n",
      "* \n",
      "* \n",
      "* * \n",
      "* * * \n",
      "* * * * \n",
      "* * * * * \n",
      "* * * * \n",
      "* * * \n",
      "* * \n",
      "* \n"
     ]
    }
   ],
   "source": [
    "### Este exercício não tem assert\n",
    "## Faça aqui\n",
    "## Dica: Qual o resultado de se multiplicar uma string por um número em python?\n",
    "\n",
    "### BEGIN SOLUTION\n",
    "## Solução 1: Com dois laços for\n",
    "for i in range(1, 6):\n",
    "    print(\"* \"*i)\n",
    "\n",
    "for i in range(4, 0, -1):\n",
    "    print(\"* \"*i)\n",
    "\n",
    "## Solução 2: Com um laço apenas\n",
    "for i in range(1, 10):\n",
    "    if i <= 5:\n",
    "        print(\"* \"*i)\n",
    "    else:\n",
    "        print(\"* \"*(10-i))\n",
    "### END SOLUTION"
   ]
  },
  {
   "cell_type": "markdown",
   "metadata": {},
   "source": [
    "### 2.12 Escreva uma função que receba como entrada uma string conforme apresentada a seguir e retorne uma lista contendo a população dos 3 Estados brasileiros mais populosos.\n",
    "\n",
    "\"\"\"Acre=881935; Alagoas=3337357; Amapá=845731; Amazonas=4144597; Ceará=9132078;\n",
    " Distrito Federal=3015268; Espírito Santo=4018650; Goiás=7018354; Maranhão=7075181;\n",
    " Mato Grosso=3484466; Mato Grosso do Sul=2778986; Minas Gerais=21168791;\n",
    " Paraíba=4018127; Paraná=11433957; Pernambuco=9557071; Piauí=3273227; Rio de Janeiro=17264943;\n",
    " Rio Grande do Norte=3506853; Rio Grande do Sul=11377239; Rondônia=1777225;\n",
    " Roraima=605761; Santa Catarina=7164788; São Paulo=45919049; Sergipe=2298696;\n",
    " Tocantins=1572866; Bahia=14873064; Pará=8602865\"\"\"\n",
    "\n",
    "#### Nesta string, a informação de cada Estado está separada por um ;\n",
    " "
   ]
  },
  {
   "cell_type": "code",
   "execution_count": 22,
   "metadata": {},
   "outputs": [],
   "source": [
    "# Dica 1: A função split quebra uma string numa lista baseado no caracter \n",
    "#         de separação especificado. \n",
    "#         Exemplo: '1,2,3'.split(',') retorna a lista ['1','2','3']\n",
    "# Dica 2: a função .sort de uma lista ordena a referida lista\n",
    "\n",
    "\n",
    "def top3_estados(lista_texto):\n",
    "    \"\"\"retorne os 3 estados de maior população. O parâmetro de entrada deve ser uma string\n",
    "         conforme apresentado na descrição do exercício.\n",
    "    \"\"\"\n",
    "    ### BEGIN SOLUTION\n",
    "    lista1 = lista_texto.split(\";\")\n",
    "    populacao = []\n",
    "    for l in lista1:\n",
    "        pop = l.split(\"=\")[1]\n",
    "        populacao.append(int(pop))\n",
    "    populacao.sort()\n",
    "    return populacao[-3:]\n",
    "    ### END SOLUTION"
   ]
  },
  {
   "cell_type": "code",
   "execution_count": 23,
   "metadata": {},
   "outputs": [],
   "source": [
    "# Teste aqui\n"
   ]
  },
  {
   "cell_type": "code",
   "execution_count": 24,
   "metadata": {},
   "outputs": [],
   "source": [
    "# Validação\n",
    "lista_estados=\"\"\"Acre=881935; Alagoas=3337357; Amapá=845731; Amazonas=4144597; Ceará=9132078;\\\n",
    " Distrito Federal=3015268; Espírito Santo=4018650; Goiás=7018354; Maranhão=7075181;\\\n",
    " Mato Grosso=3484466; Mato Grosso do Sul=2778986; Minas Gerais=21168791;\\\n",
    " Paraíba=4018127; Paraná=11433957; Pernambuco=9557071; Piauí=3273227; Rio de Janeiro=17264943;\\\n",
    " Rio Grande do Norte=3506853; Rio Grande do Sul=11377239; Rondônia=1777225;\\\n",
    " Roraima=605761; Santa Catarina=7164788; São Paulo=45919049; Sergipe=2298696;\\\n",
    " Tocantins=1572866; Bahia=14873064; Pará=8602865\"\"\"\n",
    "\n",
    "assert set(top3_estados(lista_estados)) == {45919049, 21168791, 17264943}"
   ]
  },
  {
   "cell_type": "markdown",
   "metadata": {},
   "source": [
    "### 2.13 Escreva uma função Python que aceite como entrada uma string de palavras separadas por vírgula e retorne uma string com as palavras em ordem alfabética e separadas por vírgula. \n",
    "#### Exemplo:  Para t=\"hoje,nota,teste,bolsa\"\n",
    "#### Resultado Esperado: \"bolsa,hoje,nota,teste\""
   ]
  },
  {
   "cell_type": "code",
   "execution_count": 25,
   "metadata": {},
   "outputs": [],
   "source": [
    "# Dica: use as funções .split e .join presente nas strings\n",
    "def sort_words(words):\n",
    "    \"\"\"retorne uma string ordenada de palavras separadas por vírgula\n",
    "    \"\"\"\n",
    "    ### BEGIN SOLUTION\n",
    "    return \",\".join(sorted(words.split(\",\")))\n",
    "    ### END SOLUTION"
   ]
  },
  {
   "cell_type": "code",
   "execution_count": 26,
   "metadata": {},
   "outputs": [],
   "source": [
    "## Faça seus testes aqui\n"
   ]
  },
  {
   "cell_type": "code",
   "execution_count": 27,
   "metadata": {},
   "outputs": [],
   "source": [
    "# Validação\n",
    "assert sort_words(\"hoje,nota,teste,bolsa\") == \"bolsa,hoje,nota,teste\""
   ]
  }
 ],
 "metadata": {
  "celltoolbar": "Create Assignment",
  "kernelspec": {
   "display_name": "Python 3",
   "language": "python",
   "name": "python3"
  },
  "language_info": {
   "codemirror_mode": {
    "name": "ipython",
    "version": 3
   },
   "file_extension": ".py",
   "mimetype": "text/x-python",
   "name": "python",
   "nbconvert_exporter": "python",
   "pygments_lexer": "ipython3",
   "version": "3.8.3"
  },
  "name": "_merged",
  "varInspector": {
   "cols": {
    "lenName": 16,
    "lenType": 16,
    "lenVar": 40
   },
   "kernels_config": {
    "python": {
     "delete_cmd_postfix": "",
     "delete_cmd_prefix": "del ",
     "library": "var_list.py",
     "varRefreshCmd": "print(var_dic_list())"
    },
    "r": {
     "delete_cmd_postfix": ") ",
     "delete_cmd_prefix": "rm(",
     "library": "var_list.r",
     "varRefreshCmd": "cat(var_dic_list()) "
    }
   },
   "types_to_exclude": [
    "module",
    "function",
    "builtin_function_or_method",
    "instance",
    "_Feature"
   ],
   "window_display": false
  }
 },
 "nbformat": 4,
 "nbformat_minor": 4
}
